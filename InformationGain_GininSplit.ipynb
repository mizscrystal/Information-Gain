{
  "nbformat": 4,
  "nbformat_minor": 0,
  "metadata": {
    "colab": {
      "provenance": [],
      "authorship_tag": "ABX9TyNRkxqsvUihfegutOkmgLAQ",
      "include_colab_link": true
    },
    "kernelspec": {
      "name": "python3",
      "display_name": "Python 3"
    },
    "language_info": {
      "name": "python"
    }
  },
  "cells": [
    {
      "cell_type": "markdown",
      "metadata": {
        "id": "view-in-github",
        "colab_type": "text"
      },
      "source": [
        "<a href=\"https://colab.research.google.com/github/mizscrystal/Information-Gain/blob/main/InformationGain_GininSplit.ipynb\" target=\"_parent\"><img src=\"https://colab.research.google.com/assets/colab-badge.svg\" alt=\"Open In Colab\"/></a>"
      ]
    },
    {
      "cell_type": "code",
      "execution_count": null,
      "metadata": {
        "id": "CwIXuCZ7Dg2g"
      },
      "outputs": [],
      "source": [
        "# Import libraries\n",
        "import numpy as np\n",
        "import pandas as pd\n",
        "import os\n",
        "import matplotlib.pyplot as plt"
      ]
    },
    {
      "cell_type": "markdown",
      "source": [
        "Creating the Dataset"
      ],
      "metadata": {
        "id": "VBkaf2S3DzD8"
      }
    },
    {
      "cell_type": "code",
      "source": [
        "# Defining a simple dataset\n",
        "attribute_names =  ['positive web review', 'Fuel Economy','Low Noise']\n",
        "class_name = 'Test Drive'\n",
        "# creating the Car test dataset\n",
        "data_Car = {'positive web review':['yes', 'yes', 'yes', 'yes', 'yes', 'yes', 'yes', 'yes', 'yes', 'yes', 'yes', 'yes', 'yes', 'yes','yes', 'yes', 'yes', 'yes', 'yes', 'yes', 'yes', 'yes', 'yes', 'yes', 'yes','no','no','no','no'],\n",
        "        'Fuel Economy':['yes', 'yes', 'yes', 'yes', 'yes', 'yes', 'yes', 'yes', 'yes','yes', 'yes', 'yes', 'yes', 'yes', 'yes', 'yes', 'yes', 'yes', 'yes', 'yes','no','no','no','no','no','no','no','no','no'],\n",
        "        'Low Noise':['yes', 'yes', 'yes', 'yes', 'yes', 'yes', 'yes', 'yes', 'yes','yes', 'yes', 'yes', 'yes', 'yes', 'yes', 'yes', 'yes', 'yes', 'yes', 'yes','yes','no','no','no','no','no','no','no','no'],\n",
        "        'Test Drive':['yes', 'no', 'no', 'yes', 'no', 'yes', 'no', 'yes', 'yes','yes', 'yes', 'yes', 'yes', 'no', 'yes', 'yes', 'yes', 'yes', 'no', 'no','no','yes','yes','no','no','no','no','yes','no']}\n",
        "\n",
        "# converting the dataset into a dataframe\n",
        "Test_Car_dataset = pd.DataFrame(data = data_Car)"
      ],
      "metadata": {
        "id": "yq7XjvXiDxoi"
      },
      "execution_count": null,
      "outputs": []
    },
    {
      "cell_type": "code",
      "source": [
        "Test_Car_dataset"
      ],
      "metadata": {
        "colab": {
          "base_uri": "https://localhost:8080/",
          "height": 958
        },
        "id": "MQG5w89zDmMB",
        "outputId": "e5340567-eb2b-4f0e-cd74-7a856139b308"
      },
      "execution_count": null,
      "outputs": [
        {
          "output_type": "execute_result",
          "data": {
            "text/html": [
              "<div>\n",
              "<style scoped>\n",
              "    .dataframe tbody tr th:only-of-type {\n",
              "        vertical-align: middle;\n",
              "    }\n",
              "\n",
              "    .dataframe tbody tr th {\n",
              "        vertical-align: top;\n",
              "    }\n",
              "\n",
              "    .dataframe thead th {\n",
              "        text-align: right;\n",
              "    }\n",
              "</style>\n",
              "<table border=\"1\" class=\"dataframe\">\n",
              "  <thead>\n",
              "    <tr style=\"text-align: right;\">\n",
              "      <th></th>\n",
              "      <th>positive web review</th>\n",
              "      <th>Fuel Economy</th>\n",
              "      <th>Low Noise</th>\n",
              "      <th>Test Drive</th>\n",
              "    </tr>\n",
              "  </thead>\n",
              "  <tbody>\n",
              "    <tr>\n",
              "      <th>0</th>\n",
              "      <td>yes</td>\n",
              "      <td>yes</td>\n",
              "      <td>yes</td>\n",
              "      <td>yes</td>\n",
              "    </tr>\n",
              "    <tr>\n",
              "      <th>1</th>\n",
              "      <td>yes</td>\n",
              "      <td>yes</td>\n",
              "      <td>yes</td>\n",
              "      <td>no</td>\n",
              "    </tr>\n",
              "    <tr>\n",
              "      <th>2</th>\n",
              "      <td>yes</td>\n",
              "      <td>yes</td>\n",
              "      <td>yes</td>\n",
              "      <td>no</td>\n",
              "    </tr>\n",
              "    <tr>\n",
              "      <th>3</th>\n",
              "      <td>yes</td>\n",
              "      <td>yes</td>\n",
              "      <td>yes</td>\n",
              "      <td>yes</td>\n",
              "    </tr>\n",
              "    <tr>\n",
              "      <th>4</th>\n",
              "      <td>yes</td>\n",
              "      <td>yes</td>\n",
              "      <td>yes</td>\n",
              "      <td>no</td>\n",
              "    </tr>\n",
              "    <tr>\n",
              "      <th>5</th>\n",
              "      <td>yes</td>\n",
              "      <td>yes</td>\n",
              "      <td>yes</td>\n",
              "      <td>yes</td>\n",
              "    </tr>\n",
              "    <tr>\n",
              "      <th>6</th>\n",
              "      <td>yes</td>\n",
              "      <td>yes</td>\n",
              "      <td>yes</td>\n",
              "      <td>no</td>\n",
              "    </tr>\n",
              "    <tr>\n",
              "      <th>7</th>\n",
              "      <td>yes</td>\n",
              "      <td>yes</td>\n",
              "      <td>yes</td>\n",
              "      <td>yes</td>\n",
              "    </tr>\n",
              "    <tr>\n",
              "      <th>8</th>\n",
              "      <td>yes</td>\n",
              "      <td>yes</td>\n",
              "      <td>yes</td>\n",
              "      <td>yes</td>\n",
              "    </tr>\n",
              "    <tr>\n",
              "      <th>9</th>\n",
              "      <td>yes</td>\n",
              "      <td>yes</td>\n",
              "      <td>yes</td>\n",
              "      <td>yes</td>\n",
              "    </tr>\n",
              "    <tr>\n",
              "      <th>10</th>\n",
              "      <td>yes</td>\n",
              "      <td>yes</td>\n",
              "      <td>yes</td>\n",
              "      <td>yes</td>\n",
              "    </tr>\n",
              "    <tr>\n",
              "      <th>11</th>\n",
              "      <td>yes</td>\n",
              "      <td>yes</td>\n",
              "      <td>yes</td>\n",
              "      <td>yes</td>\n",
              "    </tr>\n",
              "    <tr>\n",
              "      <th>12</th>\n",
              "      <td>yes</td>\n",
              "      <td>yes</td>\n",
              "      <td>yes</td>\n",
              "      <td>yes</td>\n",
              "    </tr>\n",
              "    <tr>\n",
              "      <th>13</th>\n",
              "      <td>yes</td>\n",
              "      <td>yes</td>\n",
              "      <td>yes</td>\n",
              "      <td>no</td>\n",
              "    </tr>\n",
              "    <tr>\n",
              "      <th>14</th>\n",
              "      <td>yes</td>\n",
              "      <td>yes</td>\n",
              "      <td>yes</td>\n",
              "      <td>yes</td>\n",
              "    </tr>\n",
              "    <tr>\n",
              "      <th>15</th>\n",
              "      <td>yes</td>\n",
              "      <td>yes</td>\n",
              "      <td>yes</td>\n",
              "      <td>yes</td>\n",
              "    </tr>\n",
              "    <tr>\n",
              "      <th>16</th>\n",
              "      <td>yes</td>\n",
              "      <td>yes</td>\n",
              "      <td>yes</td>\n",
              "      <td>yes</td>\n",
              "    </tr>\n",
              "    <tr>\n",
              "      <th>17</th>\n",
              "      <td>yes</td>\n",
              "      <td>yes</td>\n",
              "      <td>yes</td>\n",
              "      <td>yes</td>\n",
              "    </tr>\n",
              "    <tr>\n",
              "      <th>18</th>\n",
              "      <td>yes</td>\n",
              "      <td>yes</td>\n",
              "      <td>yes</td>\n",
              "      <td>no</td>\n",
              "    </tr>\n",
              "    <tr>\n",
              "      <th>19</th>\n",
              "      <td>yes</td>\n",
              "      <td>yes</td>\n",
              "      <td>yes</td>\n",
              "      <td>no</td>\n",
              "    </tr>\n",
              "    <tr>\n",
              "      <th>20</th>\n",
              "      <td>yes</td>\n",
              "      <td>no</td>\n",
              "      <td>yes</td>\n",
              "      <td>no</td>\n",
              "    </tr>\n",
              "    <tr>\n",
              "      <th>21</th>\n",
              "      <td>yes</td>\n",
              "      <td>no</td>\n",
              "      <td>no</td>\n",
              "      <td>yes</td>\n",
              "    </tr>\n",
              "    <tr>\n",
              "      <th>22</th>\n",
              "      <td>yes</td>\n",
              "      <td>no</td>\n",
              "      <td>no</td>\n",
              "      <td>yes</td>\n",
              "    </tr>\n",
              "    <tr>\n",
              "      <th>23</th>\n",
              "      <td>yes</td>\n",
              "      <td>no</td>\n",
              "      <td>no</td>\n",
              "      <td>no</td>\n",
              "    </tr>\n",
              "    <tr>\n",
              "      <th>24</th>\n",
              "      <td>yes</td>\n",
              "      <td>no</td>\n",
              "      <td>no</td>\n",
              "      <td>no</td>\n",
              "    </tr>\n",
              "    <tr>\n",
              "      <th>25</th>\n",
              "      <td>no</td>\n",
              "      <td>no</td>\n",
              "      <td>no</td>\n",
              "      <td>no</td>\n",
              "    </tr>\n",
              "    <tr>\n",
              "      <th>26</th>\n",
              "      <td>no</td>\n",
              "      <td>no</td>\n",
              "      <td>no</td>\n",
              "      <td>no</td>\n",
              "    </tr>\n",
              "    <tr>\n",
              "      <th>27</th>\n",
              "      <td>no</td>\n",
              "      <td>no</td>\n",
              "      <td>no</td>\n",
              "      <td>yes</td>\n",
              "    </tr>\n",
              "    <tr>\n",
              "      <th>28</th>\n",
              "      <td>no</td>\n",
              "      <td>no</td>\n",
              "      <td>no</td>\n",
              "      <td>no</td>\n",
              "    </tr>\n",
              "  </tbody>\n",
              "</table>\n",
              "</div>"
            ],
            "text/plain": [
              "   positive web review Fuel Economy Low Noise Test Drive\n",
              "0                  yes          yes       yes        yes\n",
              "1                  yes          yes       yes         no\n",
              "2                  yes          yes       yes         no\n",
              "3                  yes          yes       yes        yes\n",
              "4                  yes          yes       yes         no\n",
              "5                  yes          yes       yes        yes\n",
              "6                  yes          yes       yes         no\n",
              "7                  yes          yes       yes        yes\n",
              "8                  yes          yes       yes        yes\n",
              "9                  yes          yes       yes        yes\n",
              "10                 yes          yes       yes        yes\n",
              "11                 yes          yes       yes        yes\n",
              "12                 yes          yes       yes        yes\n",
              "13                 yes          yes       yes         no\n",
              "14                 yes          yes       yes        yes\n",
              "15                 yes          yes       yes        yes\n",
              "16                 yes          yes       yes        yes\n",
              "17                 yes          yes       yes        yes\n",
              "18                 yes          yes       yes         no\n",
              "19                 yes          yes       yes         no\n",
              "20                 yes           no       yes         no\n",
              "21                 yes           no        no        yes\n",
              "22                 yes           no        no        yes\n",
              "23                 yes           no        no         no\n",
              "24                 yes           no        no         no\n",
              "25                  no           no        no         no\n",
              "26                  no           no        no         no\n",
              "27                  no           no        no        yes\n",
              "28                  no           no        no         no"
            ]
          },
          "metadata": {},
          "execution_count": 7
        }
      ]
    },
    {
      "cell_type": "markdown",
      "source": [
        "Gini Impurity is a measurement used to build Decision Trees to determine how the features of a dataset should split nodes to form the tree. More precisely, the Gini Impurity of a dataset is a number between 0-0.5, which indicates the likelihood of new, random data being misclassified if it were given a random class label according to the class distribution in the dataset."
      ],
      "metadata": {
        "id": "CTxLErJztjkG"
      }
    },
    {
      "cell_type": "code",
      "source": [
        "# STEP 1: Calculate gini(D)\n",
        "def gini_impurity (value_counts):\n",
        "    n = value_counts.sum()\n",
        "    p_sum = 0\n",
        "    for key in value_counts.keys():\n",
        "        p_sum = p_sum  +  (value_counts[key] / n ) * (value_counts[key] / n ) \n",
        "    gini = 1 - p_sum\n",
        "    return gini\n",
        "\n",
        "class_value_counts = Test_Car_dataset[class_name].value_counts()\n",
        "print(f'Number of samples in each class is:\\n{class_value_counts}')\n",
        "\n",
        "gini_class = gini_impurity(class_value_counts)\n",
        "print(f'\\nGini Impurity of the class is {gini_class:.3f}')\n"
      ],
      "metadata": {
        "colab": {
          "base_uri": "https://localhost:8080/"
        },
        "id": "xlyWukiGD6UI",
        "outputId": "94ba4eeb-3691-4eaf-8248-0a9e19fa60d5"
      },
      "execution_count": null,
      "outputs": [
        {
          "output_type": "stream",
          "name": "stdout",
          "text": [
            "Number of samples in each class is:\n",
            "yes    16\n",
            "no     13\n",
            "Name: Test Drive, dtype: int64\n",
            "\n",
            "Gini Impurity of the class is 0.495\n"
          ]
        }
      ]
    },
    {
      "cell_type": "code",
      "source": [
        "# STEP 2: \n",
        "# Calculating  gini impurity for the attiributes\n",
        "def gini_split_a(attribute_name):\n",
        "    attribute_values = Test_Car_dataset[attribute_name].value_counts()\n",
        "    gini_A = 0 \n",
        "    for key in attribute_values.keys():\n",
        "        df_k = Test_Car_dataset[class_name][Test_Car_dataset[attribute_name] == key].value_counts()\n",
        "        n_k = attribute_values[key]\n",
        "        n = Test_Car_dataset.shape[0]\n",
        "        gini_A = gini_A + (( n_k / n) * gini_impurity(df_k))\n",
        "    return gini_A\n",
        "\n",
        "gini_attiribute ={}\n",
        "for key in attribute_names:\n",
        "    gini_attiribute[key] = gini_split_a(key)\n",
        "    print(f'Gini for {key} is {gini_attiribute[key]:.3f}')\n"
      ],
      "metadata": {
        "colab": {
          "base_uri": "https://localhost:8080/"
        },
        "id": "90OF_yNoELQv",
        "outputId": "de3b36cc-4dd1-45f5-ba6a-059135dccb20"
      },
      "execution_count": null,
      "outputs": [
        {
          "output_type": "stream",
          "name": "stdout",
          "text": [
            "Gini for positive web review is 0.466\n",
            "Gini for Fuel Economy is 0.452\n",
            "Gini for Low Noise is 0.471\n"
          ]
        }
      ]
    },
    {
      "cell_type": "code",
      "source": [
        "# STEP 3: \n",
        "# Compute Gini gain values to find the best split\n",
        "# An attribute has maximum Gini gain is selected for splitting.\n",
        "\n",
        "min_value = min(gini_attiribute.values())\n",
        "print('The minimum value of Gini Impurity : {0:.3} '.format(min_value))\n",
        "print('The maximum value of Gini Gain     : {0:.3} '.format(1-min_value))\n",
        "\n",
        "selected_attribute = min(gini_attiribute.keys())\n",
        "print('The selected attiribute is: ', selected_attribute)\n"
      ],
      "metadata": {
        "colab": {
          "base_uri": "https://localhost:8080/"
        },
        "id": "i4CQLFvfK3fe",
        "outputId": "f68e4fbb-980c-4300-8a30-8edb1e7373cb"
      },
      "execution_count": null,
      "outputs": [
        {
          "output_type": "stream",
          "name": "stdout",
          "text": [
            "The minimum value of Gini Impurity : 0.452 \n",
            "The maximum value of Gini Gain     : 0.548 \n",
            "The selected attiribute is:  Fuel Economy\n"
          ]
        }
      ]
    },
    {
      "cell_type": "markdown",
      "source": [
        "This calculation measured the impurity of the split, and the feature with the lowest impurity would determine the best feature for splitting the current node. From our calculation, the best feature is Fuel Economy"
      ],
      "metadata": {
        "id": "H6Q5IfMwtvdK"
      }
    },
    {
      "cell_type": "markdown",
      "source": [
        "Information gain is the main key that is used by Decision Tree Algorithms to construct a Decision Tree."
      ],
      "metadata": {
        "id": "IHFze4-5uzVu"
      }
    },
    {
      "cell_type": "code",
      "source": [
        "from __future__ import division\n",
        "from math import log\n",
        "\n",
        "\n",
        "def entropy(pi):\n",
        "    '''\n",
        "    return the Entropy of a probability distribution:\n",
        "    entropy(p) = − SUM (Pi * log(Pi) )\n",
        "    defintion:\n",
        "            entropy is a metric to measure the uncertainty of a probability distribution.\n",
        "    entropy ranges between 0 to 1\n",
        "    Low entropy means the distribution varies (peaks and valleys).\n",
        "    High entropy means the distribution is uniform.\n",
        "    '''\n",
        "\n",
        "    total = 0\n",
        "    for p in pi:\n",
        "        p = p / sum(pi)\n",
        "        if p != 0:\n",
        "            total += p * log(p, 2)\n",
        "        else:\n",
        "            total += 0\n",
        "    total *= -1\n",
        "    return total\n",
        "\n",
        "\n",
        "def gain(d, a):\n",
        "    '''\n",
        "    return the information gain:\n",
        "    gain(D, A) = entropy(D)−􏰋 SUM ( |Di| / |D| * entropy(Di) )\n",
        "    '''\n",
        "\n",
        "    total = 0\n",
        "    for v in a:\n",
        "        total += sum(v) / sum(d) * entropy(v)\n",
        "\n",
        "    gain = entropy(d) - total\n",
        "    return gain\n",
        "\n",
        "\n",
        "TestDrive = [16, 13] # Yes, No\n",
        "\n",
        "\n",
        "# attribute, number of members (feature)\n",
        "positivewebreview = [\n",
        "    [15, 1],  # overcase\n",
        "    [10, 3]  # sunny\n",
        "]\n",
        "FuelEconomy = [\n",
        "    [13, 3],  # hot\n",
        "    [7, 6]  # cool\n",
        "\n",
        "]\n",
        "LowNoise = [\n",
        "    [13, 3],  # high\n",
        "    [8, 5]   # normal\n",
        "]\n",
        "\n",
        "print(gain(TestDrive, positivewebreview))\n",
        "print(gain(TestDrive, FuelEconomy))\n",
        "print(gain(TestDrive, LowNoise))"
      ],
      "metadata": {
        "colab": {
          "base_uri": "https://localhost:8080/"
        },
        "id": "lRWwSwkwsTVu",
        "outputId": "53394d6a-115f-4e93-af85-0e0e66d61148"
      },
      "execution_count": null,
      "outputs": [
        {
          "output_type": "stream",
          "name": "stdout",
          "text": [
            "0.45681184731710556\n",
            "0.16178894771582852\n",
            "0.17725036205054034\n"
          ]
        }
      ]
    },
    {
      "cell_type": "markdown",
      "source": [
        "What is the best Information Gain (IG)?\n",
        "The feature with the highest Information Gain is selected as the best one. Hence from our calcluation it is Positive Web Review"
      ],
      "metadata": {
        "id": "45BTv4pHva-n"
      }
    },
    {
      "cell_type": "markdown",
      "source": [],
      "metadata": {
        "id": "Qg32PJqTuD0b"
      }
    }
  ]
}